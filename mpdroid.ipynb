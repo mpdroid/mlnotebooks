{
 "cells": [
  {
   "cell_type": "code",
   "execution_count": 1,
   "metadata": {},
   "outputs": [],
   "source": [
    "from sklearn.model_selection import cross_val_score, cross_val_predict\n",
    "from sklearn.metrics import accuracy_score, classification_report, confusion_matrix"
   ]
  },
  {
   "cell_type": "code",
   "execution_count": 2,
   "metadata": {},
   "outputs": [],
   "source": [
    "def print_training_score(clf, X, y):\n",
    "    print(\"Training Result:\\n\")\n",
    "    print(\"Accuracy: {0:.4f}\\n\".format(accuracy_score(y, clf.predict(X))))\n",
    "    print(\"Classification Report: \\n {} \\n\".format(classification_report(y, clf.predict(X))))\n",
    "    print(\"Confusion Matrix: \\n {} \\n\".format(confusion_matrix(y, clf.predict(X))))\n",
    "\n",
    "    res = cross_val_score(clf, X, y, cv=10, scoring='accuracy')\n",
    "    print(\"Average Accuracy: \\t {0:.4f}\".format(np.mean(res)))\n",
    "    print(\"Accuracy SD: \\t\\t {0:.4f}\".format(np.std(res)))"
   ]
  },
  {
   "cell_type": "code",
   "execution_count": 3,
   "metadata": {},
   "outputs": [],
   "source": [
    "def print_test_score(clf, X, y):\n",
    "    print(\"Test Result:\\n\")\n",
    "\n",
    "    print(\"Accuracy: {0:.4f}\\n\".format(accuracy_score(y, clf.predict(X))))\n",
    "    print(\"Classification Report: \\n {} \\n\".format(classification_report(y, clf.predict(X))))\n",
    "    print(\"Confusion Matrix: \\n {} \\n\".format(confusion_matrix(y, clf.predict(X))))"
   ]
  },
  {
   "cell_type": "code",
   "execution_count": null,
   "metadata": {},
   "outputs": [],
   "source": []
  }
 ],
 "metadata": {
  "kernelspec": {
   "display_name": "Python 3",
   "language": "python",
   "name": "python3"
  },
  "language_info": {
   "codemirror_mode": {
    "name": "ipython",
    "version": 3
   },
   "file_extension": ".py",
   "mimetype": "text/x-python",
   "name": "python",
   "nbconvert_exporter": "python",
   "pygments_lexer": "ipython3",
   "version": "3.7.1"
  }
 },
 "nbformat": 4,
 "nbformat_minor": 2
}
