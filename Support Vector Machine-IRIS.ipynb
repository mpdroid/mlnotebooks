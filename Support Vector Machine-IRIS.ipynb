{
 "cells": [
  {
   "cell_type": "markdown",
   "metadata": {},
   "source": [
    "# Support Vector Machine using IRIS Data Set\n",
    "\n",
    "Classification practice using the IRIS dataset (which maps features to species of the Iris flower)"
   ]
  },
  {
   "cell_type": "markdown",
   "metadata": {},
   "source": [
    "### Definitions\n",
    "**Separating line** or **Hyperplane** - divides the data set so as to maximize the minimum distance between the two classes of data.\n",
    "\n",
    "**Support Vectors** - points in the data set that are closest to the hypeerplane"
   ]
  },
  {
   "cell_type": "code",
   "execution_count": null,
   "metadata": {},
   "outputs": [],
   "source": [
    "import numpy as np\n",
    "import matplotlib.pyplot as plt\n",
    "%matplotlib inline\n",
    "import seaborn as sns\n",
    "sns.set_style('whitegrid')\n",
    "import pandas as pd\n",
    "from sklearn import svm, datasets"
   ]
  },
  {
   "cell_type": "code",
   "execution_count": null,
   "metadata": {},
   "outputs": [],
   "source": [
    "df = sns.load_dataset('iris')\n",
    "df.head()"
   ]
  },
  {
   "cell_type": "code",
   "execution_count": null,
   "metadata": {},
   "outputs": [],
   "source": [
    "df.species.unique()"
   ]
  },
  {
   "cell_type": "code",
   "execution_count": null,
   "metadata": {},
   "outputs": [],
   "source": [
    "col=['petal_length','petal_width','species']\n",
    "df.loc[:,col].head()"
   ]
  },
  {
   "cell_type": "code",
   "execution_count": null,
   "metadata": {},
   "outputs": [],
   "source": [
    "col=['petal_length','petal_width']\n",
    "X = df.loc[:,col]"
   ]
  },
  {
   "cell_type": "code",
   "execution_count": null,
   "metadata": {},
   "outputs": [],
   "source": [
    "species_to_num = {'setosa': 0, 'versicolor': 1, 'virginica':2}\n",
    "df['tmp'] = df['species'].map(species_to_num)\n",
    "y = df['tmp']"
   ]
  },
  {
   "cell_type": "code",
   "execution_count": null,
   "metadata": {},
   "outputs": [],
   "source": [
    "C = 0.1\n",
    "svc = svm.SVC(kernel='linear',C=C)\n",
    "#svc = svm.LinearSVC(C=C,loss='hinge')\n",
    "#svc = svm.SVC(kernel='poly',degree=3,C=C)\n",
    "#svc = svm.SVC(kernel='rbf',gamma=0.7,C=C)\n",
    "svc.fit(X,y)"
   ]
  },
  {
   "cell_type": "code",
   "execution_count": null,
   "metadata": {},
   "outputs": [],
   "source": [
    "svc.predict([[6,2]])"
   ]
  },
  {
   "cell_type": "code",
   "execution_count": null,
   "metadata": {},
   "outputs": [],
   "source": [
    "Xv = X.values.reshape(-1,1)\n",
    "h = 0.02\n",
    "x_min, x_max = Xv.min(), Xv.max() + 1\n",
    "y_min, y_max = y.min(), y.max() + 1\n",
    "xx, yy = np.meshgrid(np.arange(x_min, x_max, h), np.arange(y_min,y_max,h))\n",
    "z = svc.predict(np.c_[xx.ravel(), yy.ravel()])\n",
    "z = z.reshape(xx.shape)\n",
    "fig=plt.figure(figsize=(12,8))\n",
    "ax=plt.contourf(xx,yy,z,cmap='afmhot',alpha=0.3)\n",
    "plt.scatter(X.values[:,0],X.values[:,1],c=y,s=80,alpha=0.5,edgecolors='g')"
   ]
  },
  {
   "cell_type": "markdown",
   "metadata": {},
   "source": [
    "## Linear SVM Implementation"
   ]
  },
  {
   "cell_type": "code",
   "execution_count": null,
   "metadata": {},
   "outputs": [],
   "source": [
    "from sklearn.model_selection import train_test_split\n",
    "from sklearn.preprocessing import StandardScaler\n",
    "X_train, X_test, y_train, y_test = train_test_split(X,y,train_size=0.8,random_state=0)"
   ]
  },
  {
   "cell_type": "markdown",
   "metadata": {},
   "source": [
    "#### Scale features"
   ]
  },
  {
   "cell_type": "code",
   "execution_count": null,
   "metadata": {},
   "outputs": [],
   "source": [
    "sc_x = StandardScaler()\n",
    "X_std_train = sc_x.fit_transform(X_train)"
   ]
  },
  {
   "cell_type": "code",
   "execution_count": null,
   "metadata": {},
   "outputs": [],
   "source": [
    "C = 1.0\n",
    "svc = svm.SVC(kernel='linear', C=C)\n",
    "svc.fit(X_std_train, y_train)"
   ]
  },
  {
   "cell_type": "code",
   "execution_count": null,
   "metadata": {},
   "outputs": [],
   "source": [
    "from sklearn.model_selection import cross_val_score\n",
    "from sklearn.model_selection import cross_val_predict\n",
    "from sklearn.metrics import confusion_matrix\n",
    "from sklearn.metrics import precision_score, recall_score, f1_score\n"
   ]
  },
  {
   "cell_type": "markdown",
   "metadata": {},
   "source": [
    "#### Cross validation within training dataset"
   ]
  },
  {
   "cell_type": "code",
   "execution_count": null,
   "metadata": {},
   "outputs": [],
   "source": [
    "res = cross_val_score(svc, X_std_train,y_train, cv=10,scoring='accuracy')\n",
    "print(\"Accuracy MEAN: \\t {0:.4f}\".format(np.mean(res)))\n",
    "print(\"Accuracy SD: \\t {0:.4f}\".format(np.std(res)))"
   ]
  },
  {
   "cell_type": "code",
   "execution_count": null,
   "metadata": {},
   "outputs": [],
   "source": [
    "y_train_pred = cross_val_predict(svc, X_std_train, y_train,cv=3)"
   ]
  },
  {
   "cell_type": "code",
   "execution_count": null,
   "metadata": {},
   "outputs": [],
   "source": [
    "confusion_matrix(y_train, y_train_pred)"
   ]
  },
  {
   "cell_type": "code",
   "execution_count": null,
   "metadata": {},
   "outputs": [],
   "source": [
    "print(\"Precision Score: \\t {0:.4f}\".format(precision_score(y_train,y_train_pred, average='weighted')))\n",
    "print(\"Recall Score: \\t {0:.4f}\".format(recall_score(y_train,y_train_pred, average='weighted')))\n",
    "print(\"f1 Score: \\t {0:.4f}\".format(f1_score(y_train,y_train_pred, average='weighted')))"
   ]
  },
  {
   "cell_type": "markdown",
   "metadata": {},
   "source": [
    "#### Cross validation within test data set"
   ]
  },
  {
   "cell_type": "code",
   "execution_count": null,
   "metadata": {},
   "outputs": [],
   "source": [
    "y_test_pred = cross_val_predict(svc, sc_x.transform(X_test), y_test, cv=3)"
   ]
  },
  {
   "cell_type": "code",
   "execution_count": null,
   "metadata": {},
   "outputs": [],
   "source": [
    "confusion_matrix(y_test, y_test_pred)"
   ]
  },
  {
   "cell_type": "code",
   "execution_count": null,
   "metadata": {},
   "outputs": [],
   "source": [
    "print(\"Precision Score: \\t {0:.4f}\".format(precision_score(y_test,y_test_pred, average='weighted')))\n",
    "print(\"Recall Score: \\t {0:.4f}\".format(recall_score(y_test,y_test_pred, average='weighted')))\n",
    "print(\"f1 Score: \\t {0:.4f}\".format(f1_score(y_test,y_test_pred, average='weighted')))"
   ]
  },
  {
   "cell_type": "markdown",
   "metadata": {},
   "source": [
    "### Linear SVM Implementation with training set = 60%"
   ]
  },
  {
   "cell_type": "code",
   "execution_count": null,
   "metadata": {},
   "outputs": [],
   "source": [
    "from sklearn.model_selection import train_test_split\n",
    "from sklearn.preprocessing import StandardScaler\n",
    "X_train, X_test, y_train, y_test = train_test_split(X,y,train_size=0.6,random_state=0)"
   ]
  },
  {
   "cell_type": "code",
   "execution_count": null,
   "metadata": {},
   "outputs": [],
   "source": [
    "sc_x = StandardScaler()\n",
    "X_std_train = sc_x.fit_transform(X_train)\n",
    "C = 1.0\n",
    "svc = svm.SVC(kernel='linear', C=C)\n",
    "svc.fit(X_std_train, y_train)\n",
    "res = cross_val_score(svc, X_std_train,y_train, cv=10,scoring='accuracy')\n",
    "print(\"Accuracy MEAN: \\t {0:.4f}\".format(np.mean(res)))\n",
    "print(\"Accuracy SD: \\t {0:.4f}\".format(np.std(res)))\n",
    "y_train_pred = cross_val_predict(svc, X_std_train, y_train,cv=3)\n",
    "confusion_matrix(y_train, y_train_pred)"
   ]
  },
  {
   "cell_type": "code",
   "execution_count": null,
   "metadata": {},
   "outputs": [],
   "source": [
    "print(\"Precision Score: \\t {0:.4f}\".format(precision_score(y_train,y_train_pred, average='weighted')))\n",
    "print(\"Recall Score: \\t {0:.4f}\".format(recall_score(y_train,y_train_pred, average='weighted')))\n",
    "print(\"f1 Score: \\t {0:.4f}\".format(f1_score(y_train,y_train_pred, average='weighted')))"
   ]
  },
  {
   "cell_type": "code",
   "execution_count": null,
   "metadata": {},
   "outputs": [],
   "source": [
    "y_test_pred = cross_val_predict(svc, sc_x.transform(X_test), y_test, cv=3)\n",
    "confusion_matrix(y_test, y_test_pred)"
   ]
  },
  {
   "cell_type": "code",
   "execution_count": null,
   "metadata": {},
   "outputs": [],
   "source": [
    "print(\"Precision Score: \\t {0:.4f}\".format(precision_score(y_test,y_test_pred, average='weighted')))\n",
    "print(\"Recall Score: \\t {0:.4f}\".format(recall_score(y_test,y_test_pred, average='weighted')))\n",
    "print(\"f1 Score: \\t {0:.4f}\".format(f1_score(y_test,y_test_pred, average='weighted')))"
   ]
  },
  {
   "cell_type": "markdown",
   "metadata": {},
   "source": [
    "### Linear SVM Implementation with C = 0.5"
   ]
  },
  {
   "cell_type": "code",
   "execution_count": null,
   "metadata": {},
   "outputs": [],
   "source": [
    "from sklearn.model_selection import train_test_split\n",
    "from sklearn.preprocessing import StandardScaler\n",
    "X_train, X_test, y_train, y_test = train_test_split(X,y,train_size=0.8,random_state=0)"
   ]
  },
  {
   "cell_type": "code",
   "execution_count": null,
   "metadata": {},
   "outputs": [],
   "source": [
    "sc_x = StandardScaler()\n",
    "X_std_train = sc_x.fit_transform(X_train)\n",
    "C = 0.5\n",
    "svc = svm.SVC(kernel='linear', C=C)\n",
    "svc.fit(X_std_train, y_train)\n",
    "res = cross_val_score(svc, X_std_train,y_train, cv=10,scoring='accuracy')\n",
    "print(\"Accuracy MEAN: \\t {0:.4f}\".format(np.mean(res)))\n",
    "print(\"Accuracy SD: \\t {0:.4f}\".format(np.std(res)))\n",
    "y_train_pred = cross_val_predict(svc, X_std_train, y_train,cv=3)\n",
    "confusion_matrix(y_train, y_train_pred)"
   ]
  },
  {
   "cell_type": "code",
   "execution_count": null,
   "metadata": {},
   "outputs": [],
   "source": [
    "print(\"Precision Score: \\t {0:.4f}\".format(precision_score(y_train,y_train_pred, average='weighted')))\n",
    "print(\"Recall Score: \\t {0:.4f}\".format(recall_score(y_train,y_train_pred, average='weighted')))\n",
    "print(\"f1 Score: \\t {0:.4f}\".format(f1_score(y_train,y_train_pred, average='weighted')))"
   ]
  },
  {
   "cell_type": "code",
   "execution_count": null,
   "metadata": {},
   "outputs": [],
   "source": [
    "y_test_pred = cross_val_predict(svc, sc_x.transform(X_test), y_test, cv=3)\n",
    "confusion_matrix(y_test, y_test_pred)"
   ]
  },
  {
   "cell_type": "code",
   "execution_count": null,
   "metadata": {},
   "outputs": [],
   "source": [
    "print(\"Precision Score: \\t {0:.4f}\".format(precision_score(y_test,y_test_pred, average='weighted')))\n",
    "print(\"Recall Score: \\t {0:.4f}\".format(recall_score(y_test,y_test_pred, average='weighted')))\n",
    "print(\"f1 Score: \\t {0:.4f}\".format(f1_score(y_test,y_test_pred, average='weighted')))"
   ]
  },
  {
   "cell_type": "markdown",
   "metadata": {},
   "source": [
    "## Polynomial SVC"
   ]
  },
  {
   "cell_type": "code",
   "execution_count": null,
   "metadata": {},
   "outputs": [],
   "source": [
    "C = 1\n",
    "svc = svm.SVC(kernel='poly', degree=5, C=C)\n",
    "svc.fit(X, y)"
   ]
  },
  {
   "cell_type": "code",
   "execution_count": null,
   "metadata": {},
   "outputs": [],
   "source": [
    "Xv = X.values.reshape(-1,1)\n",
    "h = 0.02\n",
    "x_min, x_max = Xv.min(), Xv.max() + 1\n",
    "y_min, y_max = y.min(), y.max() + 1\n",
    "xx, yy = np.meshgrid(np.arange(x_min, x_max, h), np.arange(y_min,y_max,h))\n",
    "z = svc.predict(np.c_[xx.ravel(), yy.ravel()])\n",
    "z = z.reshape(xx.shape)\n",
    "fig=plt.figure(figsize=(12,8))\n",
    "ax=plt.contourf(xx,yy,z,cmap='afmhot',alpha=0.3)\n",
    "plt.scatter(X.values[:,0],X.values[:,1],c=y,s=80,alpha=0.5,edgecolors='g')"
   ]
  },
  {
   "cell_type": "markdown",
   "metadata": {},
   "source": [
    "### Polynomial SVM Implementation"
   ]
  },
  {
   "cell_type": "code",
   "execution_count": null,
   "metadata": {},
   "outputs": [],
   "source": [
    "svc.fit(X_std_train, y_train)"
   ]
  },
  {
   "cell_type": "code",
   "execution_count": null,
   "metadata": {},
   "outputs": [],
   "source": [
    "res = cross_val_score(svc, X_std_train,y_train, cv=10,scoring='accuracy')\n",
    "print(\"Accuracy MEAN: \\t {0:.4f}\".format(np.mean(res)))\n",
    "print(\"Accuracy SD: \\t {0:.4f}\".format(np.std(res)))\n",
    "y_train_pred = cross_val_predict(svc, X_std_train, y_train,cv=3)\n",
    "confusion_matrix(y_train, y_train_pred)"
   ]
  },
  {
   "cell_type": "code",
   "execution_count": null,
   "metadata": {},
   "outputs": [],
   "source": [
    "print(\"Precision Score: \\t {0:.4f}\".format(precision_score(y_train,y_train_pred, average='weighted')))\n",
    "print(\"Recall Score: \\t {0:.4f}\".format(recall_score(y_train,y_train_pred, average='weighted')))\n",
    "print(\"f1 Score: \\t {0:.4f}\".format(f1_score(y_train,y_train_pred, average='weighted')))"
   ]
  },
  {
   "cell_type": "code",
   "execution_count": null,
   "metadata": {},
   "outputs": [],
   "source": [
    "y_test_pred = cross_val_predict(svc, sc_x.transform(X_test), y_test, cv=3)\n",
    "confusion_matrix(y_test, y_test_pred)"
   ]
  },
  {
   "cell_type": "code",
   "execution_count": null,
   "metadata": {},
   "outputs": [],
   "source": [
    "print(\"Precision Score: \\t {0:.4f}\".format(precision_score(y_test,y_test_pred, average='weighted')))\n",
    "print(\"Recall Score: \\t {0:.4f}\".format(recall_score(y_test,y_test_pred, average='weighted')))\n",
    "print(\"f1 Score: \\t {0:.4f}\".format(f1_score(y_test,y_test_pred, average='weighted')))"
   ]
  },
  {
   "cell_type": "markdown",
   "metadata": {},
   "source": [
    "## Gaussian Radial Basis Function (rbf)"
   ]
  },
  {
   "cell_type": "code",
   "execution_count": null,
   "metadata": {},
   "outputs": [],
   "source": [
    "C = 0.1\n",
    "svc = svm.SVC(kernel='rbf', gamma=0.25, C=C)\n",
    "svc.fit(X, y)"
   ]
  },
  {
   "cell_type": "code",
   "execution_count": null,
   "metadata": {},
   "outputs": [],
   "source": [
    "Xv = X.values.reshape(-1,1)\n",
    "h = 0.02\n",
    "x_min, x_max = Xv.min(), Xv.max() + 1\n",
    "y_min, y_max = y.min(), y.max() + 1\n",
    "xx, yy = np.meshgrid(np.arange(x_min, x_max, h), np.arange(y_min,y_max,h))\n",
    "z = svc.predict(np.c_[xx.ravel(), yy.ravel()])\n",
    "z = z.reshape(xx.shape)\n",
    "fig=plt.figure(figsize=(12,8))\n",
    "ax=plt.contourf(xx,yy,z,cmap='afmhot',alpha=0.3)\n",
    "plt.scatter(X.values[:,0],X.values[:,1],c=y,s=80,alpha=0.5,edgecolors='g')"
   ]
  },
  {
   "cell_type": "code",
   "execution_count": null,
   "metadata": {},
   "outputs": [],
   "source": [
    "svc.fit(X_std_train, y_train)"
   ]
  },
  {
   "cell_type": "code",
   "execution_count": null,
   "metadata": {},
   "outputs": [],
   "source": [
    "res = cross_val_score(svc, X_std_train,y_train, cv=10,scoring='accuracy')\n",
    "print(\"Accuracy MEAN: \\t {0:.4f}\".format(np.mean(res)))\n",
    "print(\"Accuracy SD: \\t {0:.4f}\".format(np.std(res)))\n",
    "y_train_pred = cross_val_predict(svc, X_std_train, y_train,cv=3)\n",
    "confusion_matrix(y_train, y_train_pred)"
   ]
  },
  {
   "cell_type": "code",
   "execution_count": null,
   "metadata": {},
   "outputs": [],
   "source": [
    "print(\"Precision Score: \\t {0:.4f}\".format(precision_score(y_train,y_train_pred, average='weighted')))\n",
    "print(\"Recall Score: \\t {0:.4f}\".format(recall_score(y_train,y_train_pred, average='weighted')))\n",
    "print(\"f1 Score: \\t {0:.4f}\".format(f1_score(y_train,y_train_pred, average='weighted')))"
   ]
  },
  {
   "cell_type": "code",
   "execution_count": null,
   "metadata": {},
   "outputs": [],
   "source": [
    "y_test_pred = cross_val_predict(svc, sc_x.transform(X_test), y_test, cv=3)\n",
    "confusion_matrix(y_test, y_test_pred)"
   ]
  },
  {
   "cell_type": "code",
   "execution_count": null,
   "metadata": {},
   "outputs": [],
   "source": [
    "print(\"Precision Score: \\t {0:.4f}\".format(precision_score(y_test,y_test_pred, average='weighted')))\n",
    "print(\"Recall Score: \\t {0:.4f}\".format(recall_score(y_test,y_test_pred, average='weighted')))\n",
    "print(\"f1 Score: \\t {0:.4f}\".format(f1_score(y_test,y_test_pred, average='weighted')))"
   ]
  },
  {
   "cell_type": "markdown",
   "metadata": {},
   "source": [
    "## Grid Search"
   ]
  },
  {
   "cell_type": "code",
   "execution_count": null,
   "metadata": {},
   "outputs": [],
   "source": [
    "from sklearn.pipeline import Pipeline\n",
    "from sklearn.model_selection import GridSearchCV"
   ]
  },
  {
   "cell_type": "code",
   "execution_count": null,
   "metadata": {},
   "outputs": [],
   "source": [
    "X_train, X_test, y_train, y_test = train_test_split(X,y,train_size=0.8,random_state=0)\n",
    "X_std_train = sc_x.fit_transform(X_train)\n",
    "pipeline = Pipeline([('clf', svm.SVC(kernel='rbf',C=1,gamma=0.1))])\n",
    "params = {'clf__C':(0.1,0.5,1,2,5,10,20), 'clf__gamma':(0.001,0.1,0.1,0.25,0.5,0.75,1)}"
   ]
  },
  {
   "cell_type": "code",
   "execution_count": null,
   "metadata": {},
   "outputs": [],
   "source": [
    "svm_grid_rbf = GridSearchCV(pipeline, params, n_jobs=-1,cv=3,verbose=1,scoring='accuracy')"
   ]
  },
  {
   "cell_type": "code",
   "execution_count": null,
   "metadata": {},
   "outputs": [],
   "source": [
    "svm_grid_rbf.fit(X_train, y_train)"
   ]
  },
  {
   "cell_type": "code",
   "execution_count": null,
   "metadata": {},
   "outputs": [],
   "source": [
    "svm_grid_rbf.best_score_"
   ]
  },
  {
   "cell_type": "code",
   "execution_count": null,
   "metadata": {},
   "outputs": [],
   "source": [
    "best = svm_grid_rbf.best_estimator_.get_params()"
   ]
  },
  {
   "cell_type": "code",
   "execution_count": null,
   "metadata": {},
   "outputs": [],
   "source": [
    "best"
   ]
  },
  {
   "cell_type": "code",
   "execution_count": null,
   "metadata": {},
   "outputs": [],
   "source": [
    "for k in sorted(params.keys()):\n",
    "    print('\\t{0}: \\t {1:.2f}'.format(k,best[k]))"
   ]
  },
  {
   "cell_type": "code",
   "execution_count": null,
   "metadata": {},
   "outputs": [],
   "source": [
    "X_std_test = sc_x.fit_transform(X_test)\n",
    "y_test_pred = svm_grid_rbf.predict(X_test)"
   ]
  },
  {
   "cell_type": "code",
   "execution_count": null,
   "metadata": {},
   "outputs": [],
   "source": [
    "confusion_matrix(y_test, y_test_pred)"
   ]
  },
  {
   "cell_type": "code",
   "execution_count": null,
   "metadata": {},
   "outputs": [],
   "source": [
    "print(\"Precision Score: \\t {0:.4f}\".format(precision_score(y_test,y_test_pred, average='weighted')))\n",
    "print(\"Recall Score: \\t {0:.4f}\".format(recall_score(y_test,y_test_pred, average='weighted')))\n",
    "print(\"f1 Score: \\t {0:.4f}\".format(f1_score(y_test,y_test_pred, average='weighted')))"
   ]
  },
  {
   "cell_type": "markdown",
   "metadata": {},
   "source": [
    "## Support Vector Regression"
   ]
  },
  {
   "cell_type": "code",
   "execution_count": null,
   "metadata": {},
   "outputs": [],
   "source": [
    "from sklearn.svm import SVR\n",
    "from sklearn.metrics import mean_squared_error, r2_score"
   ]
  },
  {
   "cell_type": "code",
   "execution_count": null,
   "metadata": {},
   "outputs": [],
   "source": [
    "svr = SVR()\n",
    "svr.fit(X_train,y_train)\n",
    "y_train_pred = svr.predict(X_train)\n",
    "y_test_pred = svr.predict(X_test)\n",
    "print(\"MSE train: {0:.4f}, test: {1:.4f}\".format(mean_squared_error(y_train, y_train_pred),\n",
    "                                                mean_squared_error(y_test, y_test_pred)))\n",
    "print(\"R^2 train: {0:.4f}, test: {1:.4f}\".format(r2_score(y_train, y_train_pred),\n",
    "                                                r2_score(y_test, y_test_pred)))"
   ]
  },
  {
   "cell_type": "markdown",
   "metadata": {},
   "source": [
    "### Linear"
   ]
  },
  {
   "cell_type": "code",
   "execution_count": null,
   "metadata": {},
   "outputs": [],
   "source": [
    "svr = SVR(kernel='linear')\n",
    "svr.fit(X_train,y_train)\n",
    "y_train_pred = svr.predict(X_train)\n",
    "y_test_pred = svr.predict(X_test)\n",
    "print(\"MSE train: {0:.4f}, test: {1:.4f}\".format(mean_squared_error(y_train, y_train_pred),\n",
    "                                                mean_squared_error(y_test, y_test_pred)))\n",
    "print(\"R^2 train: {0:.4f}, test: {1:.4f}\".format(r2_score(y_train, y_train_pred),\n",
    "                                                r2_score(y_test, y_test_pred)))"
   ]
  },
  {
   "cell_type": "markdown",
   "metadata": {},
   "source": [
    "### Poly"
   ]
  },
  {
   "cell_type": "code",
   "execution_count": null,
   "metadata": {},
   "outputs": [],
   "source": [
    "svr = SVR(kernel='poly',degree=2,C=1e3)\n",
    "svr.fit(X_train,y_train)\n",
    "y_train_pred = svr.predict(X_train)\n",
    "y_test_pred = svr.predict(X_test)\n",
    "print(\"MSE train: {0:.4f}, test: {1:.4f}\".format(mean_squared_error(y_train, y_train_pred),\n",
    "                                                mean_squared_error(y_test, y_test_pred)))\n",
    "print(\"R^2 train: {0:.4f}, test: {1:.4f}\".format(r2_score(y_train, y_train_pred),\n",
    "                                                r2_score(y_test, y_test_pred)))"
   ]
  },
  {
   "cell_type": "markdown",
   "metadata": {},
   "source": [
    "### RBG"
   ]
  },
  {
   "cell_type": "code",
   "execution_count": null,
   "metadata": {},
   "outputs": [],
   "source": [
    "svr = SVR(kernel='rbf',gamma=0.1,C=1e3)\n",
    "svr.fit(X_train,y_train)\n",
    "y_train_pred = svr.predict(X_train)\n",
    "y_test_pred = svr.predict(X_test)\n",
    "print(\"MSE train: {0:.4f}, test: {1:.4f}\".format(mean_squared_error(y_train, y_train_pred),\n",
    "                                                mean_squared_error(y_test, y_test_pred)))\n",
    "print(\"R^2 train: {0:.4f}, test: {1:.4f}\".format(r2_score(y_train, y_train_pred),\n",
    "                                                r2_score(y_test, y_test_pred)))"
   ]
  }
 ],
 "metadata": {
  "kernelspec": {
   "display_name": "Python 3",
   "language": "python",
   "name": "python3"
  },
  "language_info": {
   "codemirror_mode": {
    "name": "ipython",
    "version": 3
   },
   "file_extension": ".py",
   "mimetype": "text/x-python",
   "name": "python",
   "nbconvert_exporter": "python",
   "pygments_lexer": "ipython3",
   "version": "3.7.1"
  }
 },
 "nbformat": 4,
 "nbformat_minor": 2
}
